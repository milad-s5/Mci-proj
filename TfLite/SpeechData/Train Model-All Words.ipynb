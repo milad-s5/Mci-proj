{
 "cells": [
  {
   "cell_type": "markdown",
   "metadata": {
    "colab_type": "text",
    "id": "7ZuigSoBOgNw"
   },
   "source": [
    "# Training\n",
    "\n",
    "This treats the spectrograms of the words like images"
   ]
  },
  {
   "cell_type": "code",
   "execution_count": 1,
   "metadata": {
    "colab": {},
    "colab_type": "code",
    "executionInfo": {
     "elapsed": 2399,
     "status": "ok",
     "timestamp": 1599330912465,
     "user": {
      "displayName": "Chris Greening",
      "photoUrl": "https://lh3.googleusercontent.com/a-/AOh14GhzkETr7y27ciZfW4lregDo2YPFRrA30ouOuL6TIQ=s64",
      "userId": "14199137355227635747"
     },
     "user_tz": -60
    },
    "id": "aa6niXGfOgNx"
   },
   "outputs": [
    {
     "name": "stderr",
     "output_type": "stream",
     "text": [
      "2023-08-14 17:04:35.674721: I tensorflow/tsl/cuda/cudart_stub.cc:28] Could not find cuda drivers on your machine, GPU will not be used.\n",
      "2023-08-14 17:04:44.469077: I tensorflow/tsl/cuda/cudart_stub.cc:28] Could not find cuda drivers on your machine, GPU will not be used.\n",
      "2023-08-14 17:04:44.479501: I tensorflow/core/platform/cpu_feature_guard.cc:182] This TensorFlow binary is optimized to use available CPU instructions in performance-critical operations.\n",
      "To enable the following instructions: AVX2 FMA, in other operations, rebuild TensorFlow with the appropriate compiler flags.\n",
      "2023-08-14 17:05:03.049942: W tensorflow/compiler/tf2tensorrt/utils/py_utils.cc:38] TF-TRT Warning: Could not find TensorRT\n"
     ]
    }
   ],
   "source": [
    "# Import all the things we will need\n",
    "import datetime\n",
    "import tensorflow as tf\n",
    "import numpy as np\n",
    "from tensorflow import keras\n",
    "from tensorflow.keras import regularizers\n",
    "from tensorflow.keras.models import Sequential\n",
    "from tensorflow.keras.layers import Dense, Conv2D, Flatten, Dropout, MaxPooling2D, BatchNormalization\n",
    "from tensorflow.data import Dataset\n",
    "import matplotlib.pyplot as plt"
   ]
  },
  {
   "cell_type": "code",
   "execution_count": 3,
   "metadata": {
    "colab": {},
    "colab_type": "code",
    "executionInfo": {
     "elapsed": 25328,
     "status": "ok",
     "timestamp": 1599324137392,
     "user": {
      "displayName": "Chris Greening",
      "photoUrl": "https://lh3.googleusercontent.com/a-/AOh14GhzkETr7y27ciZfW4lregDo2YPFRrA30ouOuL6TIQ=s64",
      "userId": "14199137355227635747"
     },
     "user_tz": -60
    },
    "id": "QKSFOZvEOgN3"
   },
   "outputs": [],
   "source": [
    "# clear out any old logs\n",
    "!rm -rf ./logs/ "
   ]
  },
  {
   "cell_type": "code",
   "execution_count": 6,
   "metadata": {
    "colab": {},
    "colab_type": "code",
    "executionInfo": {
     "elapsed": 24601,
     "status": "ok",
     "timestamp": 1599324137393,
     "user": {
      "displayName": "Chris Greening",
      "photoUrl": "https://lh3.googleusercontent.com/a-/AOh14GhzkETr7y27ciZfW4lregDo2YPFRrA30ouOuL6TIQ=s64",
      "userId": "14199137355227635747"
     },
     "user_tz": -60
    },
    "id": "-EENm2XtOgN6"
   },
   "outputs": [],
   "source": [
    "# List of the words in categorical order\n",
    "command_words = [\n",
    "    'forward',\n",
    "    'backward',\n",
    "    'left',\n",
    "    'right',\n",
    "    '_invalid',\n",
    "]"
   ]
  },
  {
   "cell_type": "code",
   "execution_count": 7,
   "metadata": {
    "colab": {},
    "colab_type": "code",
    "executionInfo": {
     "elapsed": 5271,
     "status": "ok",
     "timestamp": 1599324142683,
     "user": {
      "displayName": "Chris Greening",
      "photoUrl": "https://lh3.googleusercontent.com/a-/AOh14GhzkETr7y27ciZfW4lregDo2YPFRrA30ouOuL6TIQ=s64",
      "userId": "14199137355227635747"
     },
     "user_tz": -60
    },
    "id": "ERCnsdwMOgN9"
   },
   "outputs": [],
   "source": [
    "# Load up the sprectrograms and labels\n",
    "training_spectrogram = np.load('training_spectrogram.npz')\n",
    "validation_spectrogram = np.load('validation_spectrogram.npz')\n",
    "test_spectrogram = np.load('test_spectrogram.npz')"
   ]
  },
  {
   "cell_type": "code",
   "execution_count": 8,
   "metadata": {
    "colab": {},
    "colab_type": "code",
    "executionInfo": {
     "elapsed": 30633,
     "status": "ok",
     "timestamp": 1599324168055,
     "user": {
      "displayName": "Chris Greening",
      "photoUrl": "https://lh3.googleusercontent.com/a-/AOh14GhzkETr7y27ciZfW4lregDo2YPFRrA30ouOuL6TIQ=s64",
      "userId": "14199137355227635747"
     },
     "user_tz": -60
    },
    "id": "4L_A47mDOgN_"
   },
   "outputs": [
    {
     "name": "stdout",
     "output_type": "stream",
     "text": [
      "99 43\n"
     ]
    }
   ],
   "source": [
    "# extract the data from the files\n",
    "X_train = training_spectrogram['X']\n",
    "Y_train_cats = training_spectrogram['Y']\n",
    "X_validate = validation_spectrogram['X']\n",
    "Y_validate_cats = validation_spectrogram['Y']\n",
    "X_test = test_spectrogram['X']\n",
    "Y_test_cats = test_spectrogram['Y']\n",
    "\n",
    "# get the width and height of the spectrogram \"image\"\n",
    "IMG_WIDTH=X_train[0].shape[0]\n",
    "IMG_HEIGHT=X_train[0].shape[1]\n",
    "print(IMG_WIDTH, IMG_HEIGHT)"
   ]
  },
  {
   "cell_type": "code",
   "execution_count": 11,
   "metadata": {},
   "outputs": [
    {
     "name": "stdout",
     "output_type": "stream",
     "text": [
      "99 43\n",
      "99 43\n",
      "99 43\n",
      "99 43\n",
      "99 43\n",
      "99 43\n",
      "99 43\n",
      "99 43\n",
      "99 43\n",
      "99 43\n"
     ]
    }
   ],
   "source": [
    "# check dims of some of our data\n",
    "for i in range(10):\n",
    "    print(X_train[i].shape[0], X_train[i].shape[1])"
   ]
  },
  {
   "cell_type": "code",
   "execution_count": 9,
   "metadata": {
    "colab": {
     "base_uri": "https://localhost:8080/",
     "height": 518
    },
    "colab_type": "code",
    "executionInfo": {
     "elapsed": 30626,
     "status": "ok",
     "timestamp": 1599324168057,
     "user": {
      "displayName": "Chris Greening",
      "photoUrl": "https://lh3.googleusercontent.com/a-/AOh14GhzkETr7y27ciZfW4lregDo2YPFRrA30ouOuL6TIQ=s64",
      "userId": "14199137355227635747"
     },
     "user_tz": -60
    },
    "id": "IquLGwB6pSwR",
    "outputId": "653df24c-9a30-4e01-9aa1-b1f213aecf8e"
   },
   "outputs": [
    {
     "data": {
      "text/plain": [
       "(array([44520., 49000., 37520., 42220., 78183.]),\n",
       " array([0., 1., 2., 3., 4., 5.]),\n",
       " <BarContainer object of 5 artists>)"
      ]
     },
     "execution_count": 9,
     "metadata": {},
     "output_type": "execute_result"
    },
    {
     "data": {
      "image/png": "[encoded data removed]",
      "text/plain": [
       "<Figure size 640x480 with 1 Axes>"
      ]
     },
     "metadata": {},
     "output_type": "display_data"
    }
   ],
   "source": [
    "# plot a distribution of the words\n",
    "plt.hist(Y_train_cats, bins=range(0,len(command_words)+1), align='left')"
   ]
  },
  {
   "cell_type": "code",
   "execution_count": 10,
   "metadata": {
    "colab": {
     "base_uri": "https://localhost:8080/",
     "height": 683
    },
    "colab_type": "code",
    "executionInfo": {
     "elapsed": 27938,
     "status": "ok",
     "timestamp": 1599324168058,
     "user": {
      "displayName": "Chris Greening",
      "photoUrl": "https://lh3.googleusercontent.com/a-/AOh14GhzkETr7y27ciZfW4lregDo2YPFRrA30ouOuL6TIQ=s64",
      "userId": "14199137355227635747"
     },
     "user_tz": -60
    },
    "id": "ZXHaeU4uqLnM",
    "outputId": "48fb554d-8f2b-450d-db45-233bf350b197"
   },
   "outputs": [
    {
     "name": "stdout",
     "output_type": "stream",
     "text": [
      "[0 1 2 3 4] [44520 49000 37520 42220 78183]\n"
     ]
    },
    {
     "data": {
      "text/plain": [
       "{'forward': 44520,\n",
       " 'backward': 49000,\n",
       " 'left': 37520,\n",
       " 'right': 42220,\n",
       " '_invalid': 78183}"
      ]
     },
     "execution_count": 10,
     "metadata": {},
     "output_type": "execute_result"
    }
   ],
   "source": [
    "unique, counts = np.unique(Y_train_cats, return_counts=True)\n",
    "print(unique, counts)\n",
    "dict(zip([command_words[i] for i in unique], counts))"
   ]
  },
  {
   "cell_type": "code",
   "execution_count": 11,
   "metadata": {
    "colab": {},
    "colab_type": "code",
    "executionInfo": {
     "elapsed": 1473,
     "status": "ok",
     "timestamp": 1599324169547,
     "user": {
      "displayName": "Chris Greening",
      "photoUrl": "https://lh3.googleusercontent.com/a-/AOh14GhzkETr7y27ciZfW4lregDo2YPFRrA30ouOuL6TIQ=s64",
      "userId": "14199137355227635747"
     },
     "user_tz": -60
    },
    "id": "946JWm6Fe2Wd"
   },
   "outputs": [],
   "source": [
    "Y_train = tf.one_hot(Y_train_cats, len(command_words))\n",
    "Y_validate = tf.one_hot(Y_validate_cats, len(command_words))\n",
    "Y_test = tf.one_hot(Y_test_cats, len(command_words))"
   ]
  },
  {
   "cell_type": "code",
   "execution_count": null,
   "metadata": {
    "colab": {},
    "colab_type": "code",
    "executionInfo": {
     "elapsed": 7073,
     "status": "ok",
     "timestamp": 1599324175154,
     "user": {
      "displayName": "Chris Greening",
      "photoUrl": "https://lh3.googleusercontent.com/a-/AOh14GhzkETr7y27ciZfW4lregDo2YPFRrA30ouOuL6TIQ=s64",
      "userId": "14199137355227635747"
     },
     "user_tz": -60
    },
    "id": "-60v8-m3OgOF"
   },
   "outputs": [],
   "source": [
    "# create the datasets for training\n",
    "batch_size = 32\n",
    "\n",
    "train_dataset = Dataset.from_tensor_slices(\n",
    "    (X_train, Y_train)\n",
    ").repeat(\n",
    "    count=-1\n",
    ").shuffle(\n",
    "    len(X_train)\n",
    ").batch(\n",
    "    batch_size\n",
    ")\n",
    "\n",
    "validation_dataset = Dataset.from_tensor_slices((X_validate, Y_validate)).batch(X_validate.shape[0]//10)\n",
    "\n",
    "test_dataset = Dataset.from_tensor_slices((X_test, Y_test)).batch(len(X_test))"
   ]
  },
  {
   "cell_type": "code",
   "execution_count": null,
   "metadata": {
    "colab": {
     "base_uri": "https://localhost:8080/",
     "height": 593
    },
    "colab_type": "code",
    "executionInfo": {
     "elapsed": 1497,
     "status": "ok",
     "timestamp": 1599324179335,
     "user": {
      "displayName": "Chris Greening",
      "photoUrl": "https://lh3.googleusercontent.com/a-/AOh14GhzkETr7y27ciZfW4lregDo2YPFRrA30ouOuL6TIQ=s64",
      "userId": "14199137355227635747"
     },
     "user_tz": -60
    },
    "id": "Wbnijb64OgOM",
    "outputId": "29e1706e-28e1-407d-b9dd-4f0839af6246"
   },
   "outputs": [
    {
     "name": "stdout",
     "output_type": "stream",
     "text": [
      "Model: \"sequential_1\"\n",
      "_________________________________________________________________\n",
      "Layer (type)                 Output Shape              Param #   \n",
      "=================================================================\n",
      "conv_layer1 (Conv2D)         (None, 99, 43, 4)         40        \n",
      "_________________________________________________________________\n",
      "max_pooling1 (MaxPooling2D)  (None, 49, 21, 4)         0         \n",
      "_________________________________________________________________\n",
      "conv_layer2 (Conv2D)         (None, 49, 21, 4)         148       \n",
      "_________________________________________________________________\n",
      "max_pooling3 (MaxPooling2D)  (None, 24, 10, 4)         0         \n",
      "_________________________________________________________________\n",
      "flatten_1 (Flatten)          (None, 960)               0         \n",
      "_________________________________________________________________\n",
      "dropout_2 (Dropout)          (None, 960)               0         \n",
      "_________________________________________________________________\n",
      "hidden_layer1 (Dense)        (None, 80)                76880     \n",
      "_________________________________________________________________\n",
      "dropout_3 (Dropout)          (None, 80)                0         \n",
      "_________________________________________________________________\n",
      "output (Dense)               (None, 5)                 405       \n",
      "=================================================================\n",
      "Total params: 77,473\n",
      "Trainable params: 77,473\n",
      "Non-trainable params: 0\n",
      "_________________________________________________________________\n"
     ]
    }
   ],
   "source": [
    "model = Sequential([\n",
    "    Conv2D(4, 3, padding='same', activation='relu', kernel_regularizer=regularizers.l2(0.001), name='conv_layer1', input_shape=(IMG_WIDTH, IMG_HEIGHT, 1)),\n",
    "    MaxPooling2D(name='max_pooling1', pool_size=(2,2)),\n",
    "    Conv2D(4, 3, padding='same', activation='relu', kernel_regularizer=regularizers.l2(0.001), name='conv_layer2'),\n",
    "    MaxPooling2D(name='max_pooling3', pool_size=(2,2)),\n",
    "    Flatten(),\n",
    "    Dropout(0.1),\n",
    "    Dense(80, activation='relu', kernel_regularizer=regularizers.l2(0.001), name='hidden_layer1'),\n",
    "    Dropout(0.1),\n",
    "    Dense(len(command_words), activation='softmax', kernel_regularizer=regularizers.l2(0.001), name='output')\n",
    "])\n",
    "model.summary()"
   ]
  },
  {
   "cell_type": "code",
   "execution_count": null,
   "metadata": {
    "colab": {},
    "colab_type": "code",
    "executionInfo": {
     "elapsed": 970,
     "status": "ok",
     "timestamp": 1599324186691,
     "user": {
      "displayName": "Chris Greening",
      "photoUrl": "https://lh3.googleusercontent.com/a-/AOh14GhzkETr7y27ciZfW4lregDo2YPFRrA30ouOuL6TIQ=s64",
      "userId": "14199137355227635747"
     },
     "user_tz": -60
    },
    "id": "gnEC2AOdOgOO"
   },
   "outputs": [],
   "source": [
    "epochs=10\n",
    "\n",
    "model.compile(optimizer='adam',\n",
    "              loss=tf.keras.losses.CategoricalCrossentropy(),\n",
    "              metrics=['accuracy'])"
   ]
  },
  {
   "cell_type": "markdown",
   "metadata": {
    "colab_type": "text",
    "id": "pUzYHZJ2OgOR"
   },
   "source": [
    "# Logging to tensorboard\n",
    "We log the training stats along with the confusion matrix of the test data - should we be using the validation data"
   ]
  },
  {
   "cell_type": "code",
   "execution_count": null,
   "metadata": {
    "colab": {},
    "colab_type": "code",
    "executionInfo": {
     "elapsed": 1008,
     "status": "ok",
     "timestamp": 1599324189567,
     "user": {
      "displayName": "Chris Greening",
      "photoUrl": "https://lh3.googleusercontent.com/a-/AOh14GhzkETr7y27ciZfW4lregDo2YPFRrA30ouOuL6TIQ=s64",
      "userId": "14199137355227635747"
     },
     "user_tz": -60
    },
    "id": "cwBFfW6TOgOR"
   },
   "outputs": [],
   "source": [
    "log_dir = \"logs/fit/\" + datetime.datetime.now().strftime(\"%Y%m%d-%H%M%S\")\n",
    "tensorboard_callback = tf.keras.callbacks.TensorBoard(log_dir=log_dir, histogram_freq=1)"
   ]
  },
  {
   "cell_type": "markdown",
   "metadata": {
    "colab_type": "text",
    "id": "me2W-gteOgOT"
   },
   "source": [
    "# Train model"
   ]
  },
  {
   "cell_type": "code",
   "execution_count": null,
   "metadata": {
    "colab": {
     "base_uri": "https://localhost:8080/",
     "height": 829
    },
    "colab_type": "code",
    "executionInfo": {
     "elapsed": 233329,
     "status": "ok",
     "timestamp": 1599324428053,
     "user": {
      "displayName": "Chris Greening",
      "photoUrl": "https://lh3.googleusercontent.com/a-/AOh14GhzkETr7y27ciZfW4lregDo2YPFRrA30ouOuL6TIQ=s64",
      "userId": "14199137355227635747"
     },
     "user_tz": -60
    },
    "id": "9s--XYYIOgOW",
    "outputId": "d623eb95-df61-4e2c-9acd-a82e19aaf5e9"
   },
   "outputs": [
    {
     "name": "stdout",
     "output_type": "stream",
     "text": [
      "Epoch 1/10\n",
      "   1/7857 [..............................] - ETA: 4s - loss: 1.8019 - accuracy: 0.1875WARNING:tensorflow:From /home/ubuntu/command-recognition/venv/lib/python3.6/site-packages/tensorflow/python/ops/summary_ops_v2.py:1277: stop (from tensorflow.python.eager.profiler) is deprecated and will be removed after 2020-07-01.\n",
      "Instructions for updating:\n",
      "use `tf.profiler.experimental.stop` instead.\n",
      "WARNING:tensorflow:Callbacks method `on_train_batch_end` is slow compared to the batch time (batch time: 0.0073s vs `on_train_batch_end` time: 0.0284s). Check your callbacks.\n",
      "7853/7857 [============================>.] - ETA: 0s - loss: 0.5441 - accuracy: 0.8466WARNING:tensorflow:From /home/ubuntu/command-recognition/venv/lib/python3.6/site-packages/tensorflow/python/training/tracking/tracking.py:111: Model.state_updates (from tensorflow.python.keras.engine.training) is deprecated and will be removed in a future version.\n",
      "Instructions for updating:\n",
      "This property should not be used in TensorFlow 2.0, as updates are applied automatically.\n",
      "WARNING:tensorflow:From /home/ubuntu/command-recognition/venv/lib/python3.6/site-packages/tensorflow/python/training/tracking/tracking.py:111: Layer.updates (from tensorflow.python.keras.engine.base_layer) is deprecated and will be removed in a future version.\n",
      "Instructions for updating:\n",
      "This property should not be used in TensorFlow 2.0, as updates are applied automatically.\n",
      "INFO:tensorflow:Assets written to: checkpoint.model/assets\n",
      "7857/7857 [==============================] - 51s 6ms/step - loss: 0.5442 - accuracy: 0.8466 - val_loss: 0.4042 - val_accuracy: 0.9028\n",
      "Epoch 2/10\n",
      "7852/7857 [============================>.] - ETA: 0s - loss: 0.4271 - accuracy: 0.8937INFO:tensorflow:Assets written to: checkpoint.model/assets\n",
      "7857/7857 [==============================] - 48s 6ms/step - loss: 0.4271 - accuracy: 0.8937 - val_loss: 0.3845 - val_accuracy: 0.9116\n",
      "Epoch 3/10\n",
      "7850/7857 [============================>.] - ETA: 0s - loss: 0.4054 - accuracy: 0.9030INFO:tensorflow:Assets written to: checkpoint.model/assets\n",
      "7857/7857 [==============================] - 48s 6ms/step - loss: 0.4054 - accuracy: 0.9030 - val_loss: 0.3715 - val_accuracy: 0.9193\n",
      "Epoch 4/10\n",
      "7857/7857 [==============================] - 46s 6ms/step - loss: 0.3890 - accuracy: 0.9091 - val_loss: 0.3846 - val_accuracy: 0.9133\n",
      "Epoch 5/10\n",
      "7852/7857 [============================>.] - ETA: 0s - loss: 0.3834 - accuracy: 0.9117INFO:tensorflow:Assets written to: checkpoint.model/assets\n",
      "7857/7857 [==============================] - 47s 6ms/step - loss: 0.3834 - accuracy: 0.9117 - val_loss: 0.3540 - val_accuracy: 0.9277\n",
      "Epoch 6/10\n",
      "7853/7857 [============================>.] - ETA: 0s - loss: 0.3772 - accuracy: 0.9146INFO:tensorflow:Assets written to: checkpoint.model/assets\n",
      "7857/7857 [==============================] - 48s 6ms/step - loss: 0.3772 - accuracy: 0.9146 - val_loss: 0.3541 - val_accuracy: 0.9287\n",
      "Epoch 7/10\n",
      "7857/7857 [==============================] - 47s 6ms/step - loss: 0.3746 - accuracy: 0.9154 - val_loss: 0.3611 - val_accuracy: 0.9241\n",
      "Epoch 8/10\n",
      "7857/7857 [==============================] - 47s 6ms/step - loss: 0.3718 - accuracy: 0.9166 - val_loss: 0.3752 - val_accuracy: 0.9170\n",
      "Epoch 9/10\n",
      "7857/7857 [==============================] - 47s 6ms/step - loss: 0.3672 - accuracy: 0.9178 - val_loss: 0.3536 - val_accuracy: 0.9256\n",
      "Epoch 10/10\n",
      "7857/7857 [==============================] - 46s 6ms/step - loss: 0.3629 - accuracy: 0.9195 - val_loss: 0.3566 - val_accuracy: 0.9261\n"
     ]
    }
   ],
   "source": [
    "model_checkpoint_callback = tf.keras.callbacks.ModelCheckpoint(\n",
    "    filepath=\"checkpoint.model\",\n",
    "    monitor='val_accuracy',\n",
    "    mode='max',\n",
    "    save_best_only=True)\n",
    "\n",
    "history = model.fit(\n",
    "    train_dataset,\n",
    "    steps_per_epoch=len(X_train) // batch_size,\n",
    "    epochs=epochs,\n",
    "    validation_data=validation_dataset,\n",
    "    validation_steps=10,\n",
    "    callbacks=[tensorboard_callback, model_checkpoint_callback]\n",
    ")"
   ]
  },
  {
   "cell_type": "code",
   "execution_count": null,
   "metadata": {
    "colab": {
     "base_uri": "https://localhost:8080/",
     "height": 163
    },
    "colab_type": "code",
    "executionInfo": {
     "elapsed": 233637,
     "status": "ok",
     "timestamp": 1599324431300,
     "user": {
      "displayName": "Chris Greening",
      "photoUrl": "https://lh3.googleusercontent.com/a-/AOh14GhzkETr7y27ciZfW4lregDo2YPFRrA30ouOuL6TIQ=s64",
      "userId": "14199137355227635747"
     },
     "user_tz": -60
    },
    "id": "v1u5dvHuYpsg",
    "outputId": "90a474da-39d1-49a8-8887-ab725af57795"
   },
   "outputs": [
    {
     "name": "stdout",
     "output_type": "stream",
     "text": [
      "INFO:tensorflow:Assets written to: trained.model/assets\n"
     ]
    }
   ],
   "source": [
    "model.save(\"trained.model\")"
   ]
  },
  {
   "cell_type": "markdown",
   "metadata": {
    "colab_type": "text",
    "id": "s8Vok4uqFv6_"
   },
   "source": [
    "# Testing the Model"
   ]
  },
  {
   "cell_type": "code",
   "execution_count": null,
   "metadata": {
    "colab": {
     "base_uri": "https://localhost:8080/",
     "height": 172
    },
    "colab_type": "code",
    "executionInfo": {
     "elapsed": 1007,
     "status": "error",
     "timestamp": 1599330905822,
     "user": {
      "displayName": "Chris Greening",
      "photoUrl": "https://lh3.googleusercontent.com/a-/AOh14GhzkETr7y27ciZfW4lregDo2YPFRrA30ouOuL6TIQ=s64",
      "userId": "14199137355227635747"
     },
     "user_tz": -60
    },
    "id": "21m-pPzgFmhD",
    "outputId": "e9cd084b-9eb9-4818-bf49-4c61f7c55d7f"
   },
   "outputs": [],
   "source": [
    "model2 =  keras.models.load_model(\"trained.model\")"
   ]
  },
  {
   "cell_type": "code",
   "execution_count": null,
   "metadata": {
    "colab": {
     "base_uri": "https://localhost:8080/",
     "height": 35
    },
    "colab_type": "code",
    "executionInfo": {
     "elapsed": 1876,
     "status": "ok",
     "timestamp": 1599310165183,
     "user": {
      "displayName": "Chris Greening",
      "photoUrl": "https://lh3.googleusercontent.com/a-/AOh14GhzkETr7y27ciZfW4lregDo2YPFRrA30ouOuL6TIQ=s64",
      "userId": "14199137355227635747"
     },
     "user_tz": -60
    },
    "id": "74brwGyVGZ7B",
    "outputId": "042177d6-4a6b-4873-84dd-a26e3925d337"
   },
   "outputs": [
    {
     "name": "stdout",
     "output_type": "stream",
     "text": [
      "247/247 [==============================] - 1s 6ms/step - loss: 0.3984 - accuracy: 0.9114\n"
     ]
    }
   ],
   "source": [
    "results = model2.evaluate(X_test, tf.cast(Y_test, tf.float32), batch_size=128)"
   ]
  },
  {
   "cell_type": "code",
   "execution_count": null,
   "metadata": {
    "colab": {
     "base_uri": "https://localhost:8080/",
     "height": 71
    },
    "colab_type": "code",
    "executionInfo": {
     "elapsed": 838,
     "status": "ok",
     "timestamp": 1599308975138,
     "user": {
      "displayName": "Chris Greening",
      "photoUrl": "https://lh3.googleusercontent.com/a-/AOh14GhzkETr7y27ciZfW4lregDo2YPFRrA30ouOuL6TIQ=s64",
      "userId": "14199137355227635747"
     },
     "user_tz": -60
    },
    "id": "uRkkvWOKM6hv",
    "outputId": "41cee6e7-05b2-4b22-e377-e5748e2fc216"
   },
   "outputs": [],
   "source": [
    "predictions = model2.predict(X_test, 128)"
   ]
  },
  {
   "cell_type": "code",
   "execution_count": null,
   "metadata": {
    "colab": {
     "base_uri": "https://localhost:8080/",
     "height": 71
    },
    "colab_type": "code",
    "executionInfo": {
     "elapsed": 838,
     "status": "ok",
     "timestamp": 1599308975138,
     "user": {
      "displayName": "Chris Greening",
      "photoUrl": "https://lh3.googleusercontent.com/a-/AOh14GhzkETr7y27ciZfW4lregDo2YPFRrA30ouOuL6TIQ=s64",
      "userId": "14199137355227635747"
     },
     "user_tz": -60
    },
    "id": "uRkkvWOKM6hv",
    "outputId": "41cee6e7-05b2-4b22-e377-e5748e2fc216"
   },
   "outputs": [],
   "source": [
    "import itertools\n",
    "\n",
    "\n",
    "def plot_confusion_matrix(cm, class_names):\n",
    "    \"\"\"\n",
    "  Returns a matplotlib figure containing the plotted confusion matrix.\n",
    "\n",
    "  Args:\n",
    "    cm (array, shape = [n, n]): a confusion matrix of integer classes\n",
    "    class_names (array, shape = [n]): String names of the integer classes\n",
    "  \"\"\"\n",
    "    cm = cm.numpy()\n",
    "    # Normalize the confusion matrix.\n",
    "    cm = np.around(cm.astype(\"float\") / cm.sum(axis=1)[:, np.newaxis], decimals=2)\n",
    "\n",
    "    figure = plt.figure(figsize=(8, 8))\n",
    "    plt.imshow(cm, interpolation=\"nearest\", cmap=plt.cm.Blues)\n",
    "    plt.title(\"Confusion matrix\")\n",
    "    plt.colorbar()\n",
    "    tick_marks = np.arange(len(class_names))\n",
    "    plt.xticks(tick_marks, class_names, rotation=45)\n",
    "    plt.yticks(tick_marks, class_names)\n",
    "\n",
    "    # Use white text if squares are dark; otherwise black.\n",
    "    threshold = cm.max() / 2.0\n",
    "    for i, j in itertools.product(range(cm.shape[0]), range(cm.shape[1])):\n",
    "        color = \"white\" if cm[i, j] > threshold else \"black\"\n",
    "        plt.text(j, i, cm[i, j], horizontalalignment=\"center\", color=color)\n",
    "\n",
    "    plt.tight_layout()\n",
    "    plt.ylabel(\"True label\")\n",
    "    plt.xlabel(\"Predicted label\")\n",
    "    plt.show()\n",
    "#     return figure"
   ]
  },
  {
   "cell_type": "code",
   "execution_count": null,
   "metadata": {
    "colab": {
     "base_uri": "https://localhost:8080/",
     "height": 71
    },
    "colab_type": "code",
    "executionInfo": {
     "elapsed": 838,
     "status": "ok",
     "timestamp": 1599308975138,
     "user": {
      "displayName": "Chris Greening",
      "photoUrl": "https://lh3.googleusercontent.com/a-/AOh14GhzkETr7y27ciZfW4lregDo2YPFRrA30ouOuL6TIQ=s64",
      "userId": "14199137355227635747"
     },
     "user_tz": -60
    },
    "id": "uRkkvWOKM6hv",
    "outputId": "41cee6e7-05b2-4b22-e377-e5748e2fc216",
    "scrolled": false
   },
   "outputs": [
    {
     "data": {
      "image/png": "[encoded data removed]",
      "text/plain": [
       "<Figure size 576x576 with 2 Axes>"
      ]
     },
     "metadata": {
      "needs_background": "light"
     },
     "output_type": "display_data"
    }
   ],
   "source": [
    "cm = tf.math.confusion_matrix(\n",
    "    labels=tf.argmax(Y_test, 1), predictions=tf.argmax(predictions, 1)\n",
    ")\n",
    "\n",
    "plot_confusion_matrix(cm, command_words)"
   ]
  },
  {
   "cell_type": "markdown",
   "metadata": {},
   "source": [
    "# Fully train the model"
   ]
  },
  {
   "cell_type": "code",
   "execution_count": null,
   "metadata": {
    "colab": {
     "base_uri": "https://localhost:8080/",
     "height": 244
    },
    "colab_type": "code",
    "executionInfo": {
     "elapsed": 511,
     "status": "error",
     "timestamp": 1599234663798,
     "user": {
      "displayName": "Chris Greening",
      "photoUrl": "https://lh3.googleusercontent.com/a-/AOh14GhzkETr7y27ciZfW4lregDo2YPFRrA30ouOuL6TIQ=s64",
      "userId": "14199137355227635747"
     },
     "user_tz": -60
    },
    "id": "fZItwJx7yWpY",
    "outputId": "9988d1a0-bc7b-469a-9c2c-d6ec3750512c"
   },
   "outputs": [],
   "source": [
    "batch_size = 30\n",
    "complete_train_X = np.concatenate((X_train, X_validate, X_test))\n",
    "complete_train_Y = np.concatenate((Y_train, Y_validate, Y_test))\n",
    "\n",
    "complete_train_dataset = Dataset.from_tensor_slices((complete_train_X, complete_train_Y)).repeat(count=-1).shuffle(len(complete_train_X)).batch(batch_size)"
   ]
  },
  {
   "cell_type": "code",
   "execution_count": null,
   "metadata": {},
   "outputs": [
    {
     "name": "stdout",
     "output_type": "stream",
     "text": [
      "Epoch 1/5\n",
      "10479/10479 [==============================] - 59s 6ms/step - loss: 0.3697 - accuracy: 0.9165\n",
      "Epoch 2/5\n",
      "10479/10479 [==============================] - 59s 6ms/step - loss: 0.3703 - accuracy: 0.9169\n",
      "Epoch 3/5\n",
      "10479/10479 [==============================] - 58s 6ms/step - loss: 0.3691 - accuracy: 0.9175\n",
      "Epoch 4/5\n",
      "10479/10479 [==============================] - 59s 6ms/step - loss: 0.3672 - accuracy: 0.9179\n",
      "Epoch 5/5\n",
      "10479/10479 [==============================] - 59s 6ms/step - loss: 0.3670 - accuracy: 0.9175\n"
     ]
    }
   ],
   "source": [
    "history = model2.fit(\n",
    "    complete_train_dataset,\n",
    "    steps_per_epoch=len(complete_train_X) // batch_size,\n",
    "    epochs=5\n",
    ")"
   ]
  },
  {
   "cell_type": "code",
   "execution_count": null,
   "metadata": {},
   "outputs": [
    {
     "name": "stdout",
     "output_type": "stream",
     "text": [
      "INFO:tensorflow:Assets written to: fully_trained.model/assets\n"
     ]
    }
   ],
   "source": [
    "model2.save(\"fully_trained.model\")"
   ]
  },
  {
   "cell_type": "code",
   "execution_count": null,
   "metadata": {},
   "outputs": [
    {
     "name": "stdout",
     "output_type": "stream",
     "text": [
      "2457/2457 [==============================] - 14s 6ms/step - loss: 0.3056 - accuracy: 0.9413\n"
     ]
    }
   ],
   "source": [
    "results = model2.evaluate(complete_train_X, tf.cast(complete_train_Y, tf.float32), batch_size=128)"
   ]
  },
  {
   "cell_type": "code",
   "execution_count": null,
   "metadata": {},
   "outputs": [],
   "source": [
    "predictions = model2.predict(complete_train_X, 128)"
   ]
  },
  {
   "cell_type": "code",
   "execution_count": null,
   "metadata": {},
   "outputs": [
    {
     "data": {
      "image/png": "[encoded data removed]",
      "text/plain": [
       "<Figure size 576x576 with 2 Axes>"
      ]
     },
     "metadata": {
      "needs_background": "light"
     },
     "output_type": "display_data"
    }
   ],
   "source": [
    "cm = tf.math.confusion_matrix(\n",
    "    labels=tf.argmax(complete_train_Y, 1), predictions=tf.argmax(predictions, 1)\n",
    ")\n",
    "\n",
    "plot_confusion_matrix(cm, command_words)"
   ]
  }
 ],
 "metadata": {
  "accelerator": "GPU",
  "colab": {
   "collapsed_sections": [],
   "name": "image_based_training.ipynb",
   "provenance": [],
   "toc_visible": true
  },
  "kernelspec": {
   "display_name": "Python 3",
   "language": "python",
   "name": "python3"
  },
  "language_info": {
   "codemirror_mode": {
    "name": "ipython",
    "version": 3
   },
   "file_extension": ".py",
   "mimetype": "text/x-python",
   "name": "python",
   "nbconvert_exporter": "python",
   "pygments_lexer": "ipython3",
   "version": "3.8.0"
  }
 },
 "nbformat": 4,
 "nbformat_minor": 1
}
